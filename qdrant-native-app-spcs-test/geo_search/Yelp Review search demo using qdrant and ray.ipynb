{
 "cells": [
  {
   "cell_type": "markdown",
   "id": "4d44afea-e66a-428e-85b2-8da9087787c7",
   "metadata": {},
   "source": [
    "# Geographical vector search using Distributed Qdrant DB as a native app on Snowpark Container Services"
   ]
  },
  {
   "cell_type": "markdown",
   "id": "a395b0f1-7671-4d9d-a2d7-7bed434f84fa",
   "metadata": {},
   "source": [
    "### Dataset intro"
   ]
  },
  {
   "cell_type": "markdown",
   "id": "4a42c693-9882-47ac-99f0-89b6fd2906f4",
   "metadata": {},
   "source": [
    "For this exercise, I am using This is an open dataset released by Yelp for learning purposes. It consists of millions of user reviews, business attributes, and over 200,000 pictures from multiple metropolitan areas. \n",
    "\n",
    "Number of Records: 5.7 Million records\n",
    "\n",
    "https://www.yelp.com/dataset"
   ]
  },
  {
   "cell_type": "markdown",
   "id": "0d011758-111f-4f61-92cd-ad2ab76a2068",
   "metadata": {},
   "source": [
    "### Import libraries"
   ]
  },
  {
   "cell_type": "code",
   "execution_count": 1,
   "id": "641425ff-2ff8-48c7-a178-3ee47844129a",
   "metadata": {},
   "outputs": [],
   "source": [
    "import numpy as np\n",
    "import json\n",
    "import pandas as pd\n",
    "import math\n",
    "import tqdm\n",
    "import glob\n",
    "from ast import literal_eval\n",
    "import time\n",
    "import logging\n",
    "import sys\n",
    "import os, errno\n",
    "import uuid\n",
    "from typing import Iterable\n",
    "from snowflake.snowpark import Session\n",
    "from snowflake.snowpark import functions as F\n",
    "from qdrant_client import QdrantClient\n",
    "from qdrant_client import models\n",
    "from qdrant_client.models import Filter, FieldCondition, GeoBoundingBox, GeoPoint, GeoRadius\n",
    "from sentence_transformers import SentenceTransformer\n",
    "from geopy.geocoders import Nominatim\n",
    "import ray\n",
    "import pyarrow as pa\n",
    "import pyarrow.parquet as pq\n",
    "from pyarrow import Table\n",
    "from ray.util.multiprocessing import Pool\n",
    "client = QdrantClient(\"http://instances.qdrantprimaryservice.qdrant-app-core-schema:6333\")\n",
    "collection_name = \"yelp_review_with_cortexembeddings_latest\""
   ]
  },
  {
   "cell_type": "markdown",
   "id": "e18334e3-e7f4-41f2-b0bd-fb2d68d94820",
   "metadata": {},
   "source": [
    "### Initiate logger"
   ]
  },
  {
   "cell_type": "code",
   "execution_count": 54,
   "id": "0e211952-97d3-4470-8db3-6ed64db9f844",
   "metadata": {},
   "outputs": [],
   "source": [
    "# Logging\n",
    "def get_logger(logger_name):\n",
    "   logger = logging.getLogger(logger_name)\n",
    "   logger.setLevel(logging.DEBUG)\n",
    "   handler = logging.StreamHandler(sys.stdout)\n",
    "   handler.setLevel(logging.DEBUG)\n",
    "   handler.setFormatter(\n",
    "      logging.Formatter(\n",
    "      '%(name)s [%(asctime)s] [%(levelname)s] %(message)s'))\n",
    "   logger.addHandler(handler)\n",
    "   return logger\n",
    "logger = get_logger('snowpark-container-service')\n",
    "\n",
    "def initiate_snowpark_conn(snowflake_database, snowflake_schema, snowflake_warehouse):\n",
    "  with open(\"/snowflake/session/token\", \"r\") as f:\n",
    "      token = f.read()\n",
    "\n",
    "  connection_parameters = {\n",
    "      \"account\": os.getenv(\"SNOWFLAKE_ACCOUNT\"),\n",
    "      \"host\": os.getenv(\"SNOWFLAKE_HOST\"),\n",
    "      \"authenticator\": \"oauth\",\n",
    "      \"token\": token,\n",
    "      \"warehouse\": snowflake_warehouse,\n",
    "      \"database\": snowflake_database,\n",
    "      \"schema\": snowflake_schema,\n",
    "      \"client_session_keep_alive\": True\n",
    "  }\n",
    "  snowpark_session = Session.builder.configs(connection_parameters).create()\n",
    "  return snowpark_session\n",
    "\n",
    "session = initiate_snowpark_conn(snowflake_database='QDRANT_consumer_db', snowflake_schema='yelp_reviews_sch', snowflake_warehouse='DISTRIBUTED_QDRANT_ON_SPCS_QDRANT_QUERY_WAREHOUSE')"
   ]
  },
  {
   "cell_type": "markdown",
   "id": "41cf24c7-c47f-46a1-9f1e-e136e29f66d3",
   "metadata": {},
   "source": [
    "### See Qdrant status"
   ]
  },
  {
   "cell_type": "code",
   "execution_count": 3,
   "id": "8d240acb-a1ba-4ef4-8c0c-b6ab2f8074ba",
   "metadata": {},
   "outputs": [
    {
     "name": "stdout",
     "output_type": "stream",
     "text": [
      "  % Total    % Received % Xferd  Average Speed   Time    Time     Time  Current\n",
      "                                 Dload  Upload   Total   Spent    Left  Speed\n",
      "100   750  100   750    0     0  14148      0 --:--:-- --:--:-- --:--:-- 14423\n",
      "\u001b[1;39m{\n",
      "  \u001b[0m\u001b[34;1m\"result\"\u001b[0m\u001b[1;39m: \u001b[0m\u001b[1;39m{\n",
      "    \u001b[0m\u001b[34;1m\"status\"\u001b[0m\u001b[1;39m: \u001b[0m\u001b[0;32m\"enabled\"\u001b[0m\u001b[1;39m,\n",
      "    \u001b[0m\u001b[34;1m\"peer_id\"\u001b[0m\u001b[1;39m: \u001b[0m\u001b[0;39m5725472888383057\u001b[0m\u001b[1;39m,\n",
      "    \u001b[0m\u001b[34;1m\"peers\"\u001b[0m\u001b[1;39m: \u001b[0m\u001b[1;39m{\n",
      "      \u001b[0m\u001b[34;1m\"5725472888383057\"\u001b[0m\u001b[1;39m: \u001b[0m\u001b[1;39m{\n",
      "        \u001b[0m\u001b[34;1m\"uri\"\u001b[0m\u001b[1;39m: \u001b[0m\u001b[0;32m\"http://instances.qdrantprimaryservice.qdrant-app-core-schema:6335/\"\u001b[0m\u001b[1;39m\n",
      "      \u001b[1;39m}\u001b[0m\u001b[1;39m,\n",
      "      \u001b[0m\u001b[34;1m\"7028896095435842\"\u001b[0m\u001b[1;39m: \u001b[0m\u001b[1;39m{\n",
      "        \u001b[0m\u001b[34;1m\"uri\"\u001b[0m\u001b[1;39m: \u001b[0m\u001b[0;32m\"http://instances.qdrantsecondaryservice0.qdrant-app-core-schema:6335/\"\u001b[0m\u001b[1;39m\n",
      "      \u001b[1;39m}\u001b[0m\u001b[1;39m,\n",
      "      \u001b[0m\u001b[34;1m\"6037741156569795\"\u001b[0m\u001b[1;39m: \u001b[0m\u001b[1;39m{\n",
      "        \u001b[0m\u001b[34;1m\"uri\"\u001b[0m\u001b[1;39m: \u001b[0m\u001b[0;32m\"http://instances.qdrantsecondaryservice2.qdrant-app-core-schema:6335/\"\u001b[0m\u001b[1;39m\n",
      "      \u001b[1;39m}\u001b[0m\u001b[1;39m,\n",
      "      \u001b[0m\u001b[34;1m\"6233131022468076\"\u001b[0m\u001b[1;39m: \u001b[0m\u001b[1;39m{\n",
      "        \u001b[0m\u001b[34;1m\"uri\"\u001b[0m\u001b[1;39m: \u001b[0m\u001b[0;32m\"http://instances.qdrantsecondaryservice1.qdrant-app-core-schema:6335/\"\u001b[0m\u001b[1;39m\n",
      "      \u001b[1;39m}\u001b[0m\u001b[1;39m\n",
      "    \u001b[1;39m}\u001b[0m\u001b[1;39m,\n",
      "    \u001b[0m\u001b[34;1m\"raft_info\"\u001b[0m\u001b[1;39m: \u001b[0m\u001b[1;39m{\n",
      "      \u001b[0m\u001b[34;1m\"term\"\u001b[0m\u001b[1;39m: \u001b[0m\u001b[0;39m8\u001b[0m\u001b[1;39m,\n",
      "      \u001b[0m\u001b[34;1m\"commit\"\u001b[0m\u001b[1;39m: \u001b[0m\u001b[0;39m18\u001b[0m\u001b[1;39m,\n",
      "      \u001b[0m\u001b[34;1m\"pending_operations\"\u001b[0m\u001b[1;39m: \u001b[0m\u001b[0;39m0\u001b[0m\u001b[1;39m,\n",
      "      \u001b[0m\u001b[34;1m\"leader\"\u001b[0m\u001b[1;39m: \u001b[0m\u001b[0;39m6233131022468076\u001b[0m\u001b[1;39m,\n",
      "      \u001b[0m\u001b[34;1m\"role\"\u001b[0m\u001b[1;39m: \u001b[0m\u001b[0;32m\"Follower\"\u001b[0m\u001b[1;39m,\n",
      "      \u001b[0m\u001b[34;1m\"is_voter\"\u001b[0m\u001b[1;39m: \u001b[0m\u001b[0;39mtrue\u001b[0m\u001b[1;39m\n",
      "    \u001b[1;39m}\u001b[0m\u001b[1;39m,\n",
      "    \u001b[0m\u001b[34;1m\"consensus_thread_status\"\u001b[0m\u001b[1;39m: \u001b[0m\u001b[1;39m{\n",
      "      \u001b[0m\u001b[34;1m\"consensus_thread_status\"\u001b[0m\u001b[1;39m: \u001b[0m\u001b[0;32m\"working\"\u001b[0m\u001b[1;39m,\n",
      "      \u001b[0m\u001b[34;1m\"last_update\"\u001b[0m\u001b[1;39m: \u001b[0m\u001b[0;32m\"2024-07-31T02:24:22.164663348Z\"\u001b[0m\u001b[1;39m\n",
      "    \u001b[1;39m}\u001b[0m\u001b[1;39m,\n",
      "    \u001b[0m\u001b[34;1m\"message_send_failures\"\u001b[0m\u001b[1;39m: \u001b[0m\u001b[1;39m{}\u001b[0m\u001b[1;39m\n",
      "  \u001b[1;39m}\u001b[0m\u001b[1;39m,\n",
      "  \u001b[0m\u001b[34;1m\"status\"\u001b[0m\u001b[1;39m: \u001b[0m\u001b[0;32m\"ok\"\u001b[0m\u001b[1;39m,\n",
      "  \u001b[0m\u001b[34;1m\"time\"\u001b[0m\u001b[1;39m: \u001b[0m\u001b[0;39m2.1013e-05\u001b[0m\u001b[1;39m\n",
      "\u001b[1;39m}\u001b[0m\n"
     ]
    }
   ],
   "source": [
    "! curl $QDRANT_PRIMARY_REST_ADDRESS/cluster | jq"
   ]
  },
  {
   "cell_type": "markdown",
   "id": "c0738246-d0ce-404e-b7ce-ae48c63e4372",
   "metadata": {},
   "source": [
    "### See sample of data"
   ]
  },
  {
   "cell_type": "code",
   "execution_count": 4,
   "id": "3cfe5284-9c0b-42cc-a6c8-72cee9fb2221",
   "metadata": {},
   "outputs": [
    {
     "data": {
      "text/html": [
       "<div>\n",
       "<style scoped>\n",
       "    .dataframe tbody tr th:only-of-type {\n",
       "        vertical-align: middle;\n",
       "    }\n",
       "\n",
       "    .dataframe tbody tr th {\n",
       "        vertical-align: top;\n",
       "    }\n",
       "\n",
       "    .dataframe thead th {\n",
       "        text-align: right;\n",
       "    }\n",
       "</style>\n",
       "<table border=\"1\" class=\"dataframe\">\n",
       "  <thead>\n",
       "    <tr style=\"text-align: right;\">\n",
       "      <th></th>\n",
       "      <th>BUSINESS_ID</th>\n",
       "      <th>DATE</th>\n",
       "      <th>REVIEW_ID</th>\n",
       "      <th>STARS</th>\n",
       "      <th>REVIEW_TEXT</th>\n",
       "      <th>BUSINESS_LATITUDE</th>\n",
       "      <th>BUSINESS_LONGITUDE</th>\n",
       "      <th>BUSINESS_NAME</th>\n",
       "      <th>BUSINESS_POSTAL_CODE</th>\n",
       "      <th>IS_BUSINESS_OPEN</th>\n",
       "      <th>BUSINESS_CITY</th>\n",
       "      <th>BUSINESS_CATEGORIES</th>\n",
       "      <th>BUSINESS_ADDRESS</th>\n",
       "    </tr>\n",
       "  </thead>\n",
       "  <tbody>\n",
       "    <tr>\n",
       "      <th>0</th>\n",
       "      <td>CUsM2ZJAMUkUsf5-G7Js7Q</td>\n",
       "      <td>2017-07-13 23:44:37</td>\n",
       "      <td>hcAHH0UURTd7f9NMpNsc8Q</td>\n",
       "      <td>5.0</td>\n",
       "      <td>I have written a review in the past, however I...</td>\n",
       "      <td>38.637893</td>\n",
       "      <td>-90.341171</td>\n",
       "      <td>Clayton Nail Spa</td>\n",
       "      <td>63117</td>\n",
       "      <td>1</td>\n",
       "      <td>Clayton</td>\n",
       "      <td>Waxing, Nail Salons, Beauty &amp; Spas, Hair Removal</td>\n",
       "      <td>7933 Clayton Rd</td>\n",
       "    </tr>\n",
       "  </tbody>\n",
       "</table>\n",
       "</div>"
      ],
      "text/plain": [
       "              BUSINESS_ID                DATE               REVIEW_ID  STARS  \\\n",
       "0  CUsM2ZJAMUkUsf5-G7Js7Q 2017-07-13 23:44:37  hcAHH0UURTd7f9NMpNsc8Q    5.0   \n",
       "\n",
       "                                         REVIEW_TEXT  BUSINESS_LATITUDE  \\\n",
       "0  I have written a review in the past, however I...          38.637893   \n",
       "\n",
       "   BUSINESS_LONGITUDE     BUSINESS_NAME BUSINESS_POSTAL_CODE  \\\n",
       "0          -90.341171  Clayton Nail Spa                63117   \n",
       "\n",
       "   IS_BUSINESS_OPEN BUSINESS_CITY  \\\n",
       "0                 1       Clayton   \n",
       "\n",
       "                                BUSINESS_CATEGORIES BUSINESS_ADDRESS  \n",
       "0  Waxing, Nail Salons, Beauty & Spas, Hair Removal  7933 Clayton Rd  "
      ]
     },
     "execution_count": 4,
     "metadata": {},
     "output_type": "execute_result"
    }
   ],
   "source": [
    "snowdf = session.table(\"yelp_reviews\")\n",
    "snowdf.limit(1).to_pandas()"
   ]
  },
  {
   "cell_type": "markdown",
   "id": "e3dfd9a9-0aef-47b6-a4f1-27d6df1a00a1",
   "metadata": {},
   "source": [
    "### Calculate embeddings using Cortex"
   ]
  },
  {
   "cell_type": "code",
   "execution_count": 5,
   "id": "109fbfb6-8741-417a-a8ab-09db592a93bf",
   "metadata": {},
   "outputs": [
    {
     "name": "stdout",
     "output_type": "stream",
     "text": [
      "CPU times: user 64.3 ms, sys: 8.14 ms, total: 72.5 ms\n",
      "Wall time: 14min 32s\n"
     ]
    }
   ],
   "source": [
    "%%time\n",
    "snowdf = snowdf.with_column(\"EMBEDDINGS\", F.call_builtin(\"snowflake.cortex.embed_text_768\", F.lit(\"snowflake-arctic-embed-m\"), F.col(\"REVIEW_TEXT\")))\n",
    "snowdf.write.mode(\"overwrite\").save_as_table(\"yelp_reviews_with_cortex_embeddings\")"
   ]
  },
  {
   "cell_type": "code",
   "execution_count": 13,
   "id": "a9323bcd-e816-40cc-8ff6-d91ef237b46e",
   "metadata": {},
   "outputs": [],
   "source": [
    "snowdf = session.table(\"yelp_reviews_with_cortex_embeddings\")"
   ]
  },
  {
   "cell_type": "code",
   "execution_count": 14,
   "id": "ad22970c-1a3d-44bc-a112-7af00140d4b0",
   "metadata": {},
   "outputs": [
    {
     "data": {
      "text/html": [
       "<div>\n",
       "<style scoped>\n",
       "    .dataframe tbody tr th:only-of-type {\n",
       "        vertical-align: middle;\n",
       "    }\n",
       "\n",
       "    .dataframe tbody tr th {\n",
       "        vertical-align: top;\n",
       "    }\n",
       "\n",
       "    .dataframe thead th {\n",
       "        text-align: right;\n",
       "    }\n",
       "</style>\n",
       "<table border=\"1\" class=\"dataframe\">\n",
       "  <thead>\n",
       "    <tr style=\"text-align: right;\">\n",
       "      <th></th>\n",
       "      <th>BUSINESS_ID</th>\n",
       "      <th>DATE</th>\n",
       "      <th>REVIEW_ID</th>\n",
       "      <th>STARS</th>\n",
       "      <th>REVIEW_TEXT</th>\n",
       "      <th>BUSINESS_LATITUDE</th>\n",
       "      <th>BUSINESS_LONGITUDE</th>\n",
       "      <th>BUSINESS_NAME</th>\n",
       "      <th>BUSINESS_POSTAL_CODE</th>\n",
       "      <th>IS_BUSINESS_OPEN</th>\n",
       "      <th>BUSINESS_CITY</th>\n",
       "      <th>BUSINESS_CATEGORIES</th>\n",
       "      <th>BUSINESS_ADDRESS</th>\n",
       "      <th>EMBEDDINGS</th>\n",
       "    </tr>\n",
       "  </thead>\n",
       "  <tbody>\n",
       "    <tr>\n",
       "      <th>0</th>\n",
       "      <td>R8SpLHPAsLMuvU0b_96sDA</td>\n",
       "      <td>2017-10-07 13:23:48</td>\n",
       "      <td>iDiDHUVil8KTKI8l7yR_8Q</td>\n",
       "      <td>2.0</td>\n",
       "      <td>This swim school needs to improve. \\n1) They n...</td>\n",
       "      <td>39.876745</td>\n",
       "      <td>-74.922993</td>\n",
       "      <td>Bear Paddle Swim School - Marlton</td>\n",
       "      <td>08053</td>\n",
       "      <td>1</td>\n",
       "      <td>Marlton</td>\n",
       "      <td>Specialty Schools, Active Life, Swimming Lesso...</td>\n",
       "      <td>515 Rte 73 S, Unit 170 B</td>\n",
       "      <td>[0.010044973, -0.0053094034, 0.012566361, 0.00...</td>\n",
       "    </tr>\n",
       "    <tr>\n",
       "      <th>1</th>\n",
       "      <td>qHyXH1bvVu9wF6ai9XUj9A</td>\n",
       "      <td>2020-02-27 00:54:57</td>\n",
       "      <td>u2FzTPP5SLBuSOkPP0HaTg</td>\n",
       "      <td>1.0</td>\n",
       "      <td>I went to test drive a 2012 Jeep Liberty at a ...</td>\n",
       "      <td>32.206421</td>\n",
       "      <td>-110.895928</td>\n",
       "      <td>Chapman Volkswagen of Tucson</td>\n",
       "      <td>85711</td>\n",
       "      <td>1</td>\n",
       "      <td>Tucson</td>\n",
       "      <td>Auto Parts &amp; Supplies, Automotive, Car Dealers...</td>\n",
       "      <td>4500 E 22nd St</td>\n",
       "      <td>[-0.04038955, 0.045561984, -0.011761724, 0.036...</td>\n",
       "    </tr>\n",
       "    <tr>\n",
       "      <th>2</th>\n",
       "      <td>Bd5P74d6lakelSZVs_QFVg</td>\n",
       "      <td>2019-05-10 20:13:49</td>\n",
       "      <td>LBuKcgxrpW0cuOnkrbjXPg</td>\n",
       "      <td>5.0</td>\n",
       "      <td>We love this Chick Fil-A.  My kids love the pl...</td>\n",
       "      <td>39.614499</td>\n",
       "      <td>-86.159140</td>\n",
       "      <td>Chick-fil-A</td>\n",
       "      <td>46142</td>\n",
       "      <td>1</td>\n",
       "      <td>Greenwood</td>\n",
       "      <td>Fast Food, Caterers, Restaurants, Event Planni...</td>\n",
       "      <td>155 Marlin Dr</td>\n",
       "      <td>[-0.018255284, -0.023533095, 0.0061574457, 0.0...</td>\n",
       "    </tr>\n",
       "    <tr>\n",
       "      <th>3</th>\n",
       "      <td>z3oB8UHAV0bJMP-RC2_5Uw</td>\n",
       "      <td>2016-09-01 19:10:50</td>\n",
       "      <td>_ZmiCS6K7cBXtJy_mBE4XQ</td>\n",
       "      <td>5.0</td>\n",
       "      <td>Arlene is wonderful.\\nShe is professional, pro...</td>\n",
       "      <td>43.564436</td>\n",
       "      <td>-116.403457</td>\n",
       "      <td>Arlene Thompson Clinical Hypnotherapist</td>\n",
       "      <td>83642</td>\n",
       "      <td>1</td>\n",
       "      <td>Meridian</td>\n",
       "      <td>Health &amp; Medical, Counseling &amp; Mental Health, ...</td>\n",
       "      <td></td>\n",
       "      <td>[-0.010717014, 0.04222669, 0.013096274, -0.017...</td>\n",
       "    </tr>\n",
       "    <tr>\n",
       "      <th>4</th>\n",
       "      <td>7WXQAk23tPYOnTaSgkK36g</td>\n",
       "      <td>2016-12-12 20:23:48</td>\n",
       "      <td>f-2ZsIM6vWNkAIYYFMUrEQ</td>\n",
       "      <td>3.0</td>\n",
       "      <td>Beware of the burnt wheat bread. Otherwise the...</td>\n",
       "      <td>38.651664</td>\n",
       "      <td>-90.300094</td>\n",
       "      <td>Snarf's Sandwiches - Skinker</td>\n",
       "      <td>63130</td>\n",
       "      <td>1</td>\n",
       "      <td>St. Louis</td>\n",
       "      <td>Sandwiches, Restaurants, Salad, Breakfast &amp; Br...</td>\n",
       "      <td>360 N Skinker Blvd</td>\n",
       "      <td>[-0.06065508, 0.05726764, -0.024030888, 0.0170...</td>\n",
       "    </tr>\n",
       "    <tr>\n",
       "      <th>5</th>\n",
       "      <td>ZALxLqcIfrW047KDHwhiDQ</td>\n",
       "      <td>2019-07-16 23:10:23</td>\n",
       "      <td>FlW_7cLS9mE067geekUOTw</td>\n",
       "      <td>5.0</td>\n",
       "      <td>Definitely enjoyed the place great food ,great...</td>\n",
       "      <td>38.632010</td>\n",
       "      <td>-90.194926</td>\n",
       "      <td>El Burro Loco Downtown</td>\n",
       "      <td>63101</td>\n",
       "      <td>1</td>\n",
       "      <td>St. Louis</td>\n",
       "      <td>Restaurants, Mexican</td>\n",
       "      <td>1101 Lucas Ave, Ste 1</td>\n",
       "      <td>[-0.059387583, 0.04435638, -0.027584508, 0.002...</td>\n",
       "    </tr>\n",
       "    <tr>\n",
       "      <th>6</th>\n",
       "      <td>n4qESYw7vHVVTWq4dtKp2w</td>\n",
       "      <td>2011-11-05 16:11:28</td>\n",
       "      <td>xLG7u4PJ-YgpHjjsRkAZeQ</td>\n",
       "      <td>3.0</td>\n",
       "      <td>\"Come closer, lover, take a table.\" Such was t...</td>\n",
       "      <td>38.794637</td>\n",
       "      <td>-89.950472</td>\n",
       "      <td>Orient</td>\n",
       "      <td>62025</td>\n",
       "      <td>1</td>\n",
       "      <td>Edwardsville</td>\n",
       "      <td>Chinese, Restaurants</td>\n",
       "      <td>1518 Troy Rd</td>\n",
       "      <td>[-0.07881604, 0.009183761, 0.018110033, 0.0473...</td>\n",
       "    </tr>\n",
       "    <tr>\n",
       "      <th>7</th>\n",
       "      <td>8Vk_2t7hQI02IhpcRnfAIw</td>\n",
       "      <td>2021-01-02 07:59:18</td>\n",
       "      <td>xtNxuv1NZa2Gd6r1FTs5Jg</td>\n",
       "      <td>5.0</td>\n",
       "      <td>If you want a delicious ramen here you will fi...</td>\n",
       "      <td>32.221800</td>\n",
       "      <td>-110.965922</td>\n",
       "      <td>OBON Sushi Bar Ramen</td>\n",
       "      <td>85701</td>\n",
       "      <td>1</td>\n",
       "      <td>Tucson</td>\n",
       "      <td>Sushi Bars, Restaurants, Bars, Japanese, Ramen...</td>\n",
       "      <td>350 E Congress St</td>\n",
       "      <td>[-0.054614436, 0.023927307, 0.005734516, 0.017...</td>\n",
       "    </tr>\n",
       "    <tr>\n",
       "      <th>8</th>\n",
       "      <td>GSOLNXG5-IPvNj0DPf3kOQ</td>\n",
       "      <td>2020-01-19 01:51:39</td>\n",
       "      <td>xnw3wQywVif-Kl1xWNh4Lg</td>\n",
       "      <td>4.0</td>\n",
       "      <td>Would you eat dinner at 945pm? \\n\\nMade a rese...</td>\n",
       "      <td>29.954140</td>\n",
       "      <td>-90.066082</td>\n",
       "      <td>Irene's</td>\n",
       "      <td>70116</td>\n",
       "      <td>1</td>\n",
       "      <td>New Orleans</td>\n",
       "      <td>Italian, Restaurants</td>\n",
       "      <td>529 Bienville St</td>\n",
       "      <td>[-0.026657337, 0.019398896, 0.011171801, -0.03...</td>\n",
       "    </tr>\n",
       "    <tr>\n",
       "      <th>9</th>\n",
       "      <td>QHUj7c1MkC3jnkku5S1Pcw</td>\n",
       "      <td>2020-10-29 14:53:16</td>\n",
       "      <td>qfPyYCZgYm5WEIag6EgefA</td>\n",
       "      <td>5.0</td>\n",
       "      <td>Best Mediterranean sandwich I ever had !! Supe...</td>\n",
       "      <td>28.045866</td>\n",
       "      <td>-82.394178</td>\n",
       "      <td>Mays Alreem Usa Pita House</td>\n",
       "      <td>33617</td>\n",
       "      <td>1</td>\n",
       "      <td>Temple Terrace</td>\n",
       "      <td>Food, Sandwiches, Middle Eastern, Halal, Fast ...</td>\n",
       "      <td>10700 N 56th St</td>\n",
       "      <td>[-0.07258139, 0.01738596, -0.012300067, -0.001...</td>\n",
       "    </tr>\n",
       "  </tbody>\n",
       "</table>\n",
       "</div>"
      ],
      "text/plain": [
       "              BUSINESS_ID                DATE               REVIEW_ID  STARS  \\\n",
       "0  R8SpLHPAsLMuvU0b_96sDA 2017-10-07 13:23:48  iDiDHUVil8KTKI8l7yR_8Q    2.0   \n",
       "1  qHyXH1bvVu9wF6ai9XUj9A 2020-02-27 00:54:57  u2FzTPP5SLBuSOkPP0HaTg    1.0   \n",
       "2  Bd5P74d6lakelSZVs_QFVg 2019-05-10 20:13:49  LBuKcgxrpW0cuOnkrbjXPg    5.0   \n",
       "3  z3oB8UHAV0bJMP-RC2_5Uw 2016-09-01 19:10:50  _ZmiCS6K7cBXtJy_mBE4XQ    5.0   \n",
       "4  7WXQAk23tPYOnTaSgkK36g 2016-12-12 20:23:48  f-2ZsIM6vWNkAIYYFMUrEQ    3.0   \n",
       "5  ZALxLqcIfrW047KDHwhiDQ 2019-07-16 23:10:23  FlW_7cLS9mE067geekUOTw    5.0   \n",
       "6  n4qESYw7vHVVTWq4dtKp2w 2011-11-05 16:11:28  xLG7u4PJ-YgpHjjsRkAZeQ    3.0   \n",
       "7  8Vk_2t7hQI02IhpcRnfAIw 2021-01-02 07:59:18  xtNxuv1NZa2Gd6r1FTs5Jg    5.0   \n",
       "8  GSOLNXG5-IPvNj0DPf3kOQ 2020-01-19 01:51:39  xnw3wQywVif-Kl1xWNh4Lg    4.0   \n",
       "9  QHUj7c1MkC3jnkku5S1Pcw 2020-10-29 14:53:16  qfPyYCZgYm5WEIag6EgefA    5.0   \n",
       "\n",
       "                                         REVIEW_TEXT  BUSINESS_LATITUDE  \\\n",
       "0  This swim school needs to improve. \\n1) They n...          39.876745   \n",
       "1  I went to test drive a 2012 Jeep Liberty at a ...          32.206421   \n",
       "2  We love this Chick Fil-A.  My kids love the pl...          39.614499   \n",
       "3  Arlene is wonderful.\\nShe is professional, pro...          43.564436   \n",
       "4  Beware of the burnt wheat bread. Otherwise the...          38.651664   \n",
       "5  Definitely enjoyed the place great food ,great...          38.632010   \n",
       "6  \"Come closer, lover, take a table.\" Such was t...          38.794637   \n",
       "7  If you want a delicious ramen here you will fi...          32.221800   \n",
       "8  Would you eat dinner at 945pm? \\n\\nMade a rese...          29.954140   \n",
       "9  Best Mediterranean sandwich I ever had !! Supe...          28.045866   \n",
       "\n",
       "   BUSINESS_LONGITUDE                            BUSINESS_NAME  \\\n",
       "0          -74.922993        Bear Paddle Swim School - Marlton   \n",
       "1         -110.895928             Chapman Volkswagen of Tucson   \n",
       "2          -86.159140                              Chick-fil-A   \n",
       "3         -116.403457  Arlene Thompson Clinical Hypnotherapist   \n",
       "4          -90.300094             Snarf's Sandwiches - Skinker   \n",
       "5          -90.194926                   El Burro Loco Downtown   \n",
       "6          -89.950472                                   Orient   \n",
       "7         -110.965922                     OBON Sushi Bar Ramen   \n",
       "8          -90.066082                                  Irene's   \n",
       "9          -82.394178               Mays Alreem Usa Pita House   \n",
       "\n",
       "  BUSINESS_POSTAL_CODE  IS_BUSINESS_OPEN   BUSINESS_CITY  \\\n",
       "0                08053                 1         Marlton   \n",
       "1                85711                 1          Tucson   \n",
       "2                46142                 1       Greenwood   \n",
       "3                83642                 1        Meridian   \n",
       "4                63130                 1       St. Louis   \n",
       "5                63101                 1       St. Louis   \n",
       "6                62025                 1    Edwardsville   \n",
       "7                85701                 1          Tucson   \n",
       "8                70116                 1     New Orleans   \n",
       "9                33617                 1  Temple Terrace   \n",
       "\n",
       "                                 BUSINESS_CATEGORIES  \\\n",
       "0  Specialty Schools, Active Life, Swimming Lesso...   \n",
       "1  Auto Parts & Supplies, Automotive, Car Dealers...   \n",
       "2  Fast Food, Caterers, Restaurants, Event Planni...   \n",
       "3  Health & Medical, Counseling & Mental Health, ...   \n",
       "4  Sandwiches, Restaurants, Salad, Breakfast & Br...   \n",
       "5                               Restaurants, Mexican   \n",
       "6                               Chinese, Restaurants   \n",
       "7  Sushi Bars, Restaurants, Bars, Japanese, Ramen...   \n",
       "8                               Italian, Restaurants   \n",
       "9  Food, Sandwiches, Middle Eastern, Halal, Fast ...   \n",
       "\n",
       "           BUSINESS_ADDRESS                                         EMBEDDINGS  \n",
       "0  515 Rte 73 S, Unit 170 B  [0.010044973, -0.0053094034, 0.012566361, 0.00...  \n",
       "1            4500 E 22nd St  [-0.04038955, 0.045561984, -0.011761724, 0.036...  \n",
       "2             155 Marlin Dr  [-0.018255284, -0.023533095, 0.0061574457, 0.0...  \n",
       "3                            [-0.010717014, 0.04222669, 0.013096274, -0.017...  \n",
       "4        360 N Skinker Blvd  [-0.06065508, 0.05726764, -0.024030888, 0.0170...  \n",
       "5     1101 Lucas Ave, Ste 1  [-0.059387583, 0.04435638, -0.027584508, 0.002...  \n",
       "6              1518 Troy Rd  [-0.07881604, 0.009183761, 0.018110033, 0.0473...  \n",
       "7         350 E Congress St  [-0.054614436, 0.023927307, 0.005734516, 0.017...  \n",
       "8          529 Bienville St  [-0.026657337, 0.019398896, 0.011171801, -0.03...  \n",
       "9           10700 N 56th St  [-0.07258139, 0.01738596, -0.012300067, -0.001...  "
      ]
     },
     "execution_count": 14,
     "metadata": {},
     "output_type": "execute_result"
    }
   ],
   "source": [
    "snowdf.limit(10).to_pandas()"
   ]
  },
  {
   "cell_type": "markdown",
   "id": "202940a0-0eed-4d57-8e18-1056641a4f2d",
   "metadata": {},
   "source": [
    "### Download data from snowflake into snowflake stage"
   ]
  },
  {
   "cell_type": "code",
   "execution_count": 15,
   "id": "9595f7f0-ad02-4d32-8c61-fae4bff0ff5b",
   "metadata": {},
   "outputs": [],
   "source": [
    "_ = session.sql(\"remove @DISTRIBUTED_QDRANT_ON_SPCS.qdrant_app_public_schema.artifacts/data/\").collect()"
   ]
  },
  {
   "cell_type": "code",
   "execution_count": 17,
   "id": "13465ae1-795f-4e7e-8b91-b5b746bd5076",
   "metadata": {},
   "outputs": [
    {
     "name": "stdout",
     "output_type": "stream",
     "text": [
      "CPU times: user 8.51 ms, sys: 221 μs, total: 8.73 ms\n",
      "Wall time: 1min 7s\n"
     ]
    },
    {
     "data": {
      "text/plain": [
       "[Row(rows_unloaded=5790749, input_bytes=73019331882, output_bytes=73019331882)]"
      ]
     },
     "execution_count": 17,
     "metadata": {},
     "output_type": "execute_result"
    }
   ],
   "source": [
    "%%time\n",
    "session.sql(f\"\"\"copy into @DISTRIBUTED_QDRANT_ON_SPCS.qdrant_app_public_schema.artifacts/data/\n",
    "from\n",
    "(select object_construct('BUSINESS_ID', BUSINESS_ID, 'DATE', DATE, 'REVIEW_ID', REVIEW_ID, 'STARS', STARS, 'REVIEW_TEXT', REVIEW_TEXT, 'LOCATION', object_construct('lat', BUSINESS_LATITUDE, 'lon', BUSINESS_LONGITUDE), 'BUSINESS_NAME', BUSINESS_NAME, 'BUSINESS_POSTAL_CODE', BUSINESS_POSTAL_CODE, 'BUSINESS_CITY', BUSINESS_CITY, 'BUSINESS_CATEGORIES', BUSINESS_CATEGORIES, 'BUSINESS_ADDRESS', BUSINESS_ADDRESS) AS PAYLOAD, to_array(EMBEDDINGS) AS EMBEDDINGS from yelp_reviews_with_cortex_embeddings)\n",
    "file_format = (type=PARQUET)\n",
    "max_file_size=4900000000\n",
    "\"\"\").collect()"
   ]
  },
  {
   "cell_type": "markdown",
   "id": "7e1267d8-8929-4a49-aeb6-0b294576cdf9",
   "metadata": {},
   "source": [
    "### See sample of downloaded data"
   ]
  },
  {
   "cell_type": "code",
   "execution_count": 18,
   "id": "e0d4f4de-cc89-49ff-973a-4c2c3b178370",
   "metadata": {},
   "outputs": [],
   "source": [
    "pdf = pd.read_parquet('/artifacts/data/data_0_0_0.snappy.parquet')"
   ]
  },
  {
   "cell_type": "code",
   "execution_count": 19,
   "id": "05c7e9b7-9d86-469e-a737-787e9bfe7dc3",
   "metadata": {},
   "outputs": [
    {
     "data": {
      "text/plain": [
       "16384"
      ]
     },
     "execution_count": 19,
     "metadata": {},
     "output_type": "execute_result"
    }
   ],
   "source": [
    "len(pdf.index)"
   ]
  },
  {
   "cell_type": "code",
   "execution_count": 20,
   "id": "79ea462a-1813-4f82-a2ca-401c07bda8ca",
   "metadata": {},
   "outputs": [
    {
     "data": {
      "text/html": [
       "<div>\n",
       "<style scoped>\n",
       "    .dataframe tbody tr th:only-of-type {\n",
       "        vertical-align: middle;\n",
       "    }\n",
       "\n",
       "    .dataframe tbody tr th {\n",
       "        vertical-align: top;\n",
       "    }\n",
       "\n",
       "    .dataframe thead th {\n",
       "        text-align: right;\n",
       "    }\n",
       "</style>\n",
       "<table border=\"1\" class=\"dataframe\">\n",
       "  <thead>\n",
       "    <tr style=\"text-align: right;\">\n",
       "      <th></th>\n",
       "      <th>_COL_0</th>\n",
       "      <th>_COL_1</th>\n",
       "    </tr>\n",
       "  </thead>\n",
       "  <tbody>\n",
       "    <tr>\n",
       "      <th>0</th>\n",
       "      <td>{\"BUSINESS_ADDRESS\":\"5 W Canon Perdido\",\"BUSIN...</td>\n",
       "      <td>[-7.027868926525116e-02,4.038435593247414e-02,...</td>\n",
       "    </tr>\n",
       "    <tr>\n",
       "      <th>1</th>\n",
       "      <td>{\"BUSINESS_ADDRESS\":\"739 Conti St\",\"BUSINESS_C...</td>\n",
       "      <td>[-4.048965126276016e-02,2.500831335783005e-02,...</td>\n",
       "    </tr>\n",
       "    <tr>\n",
       "      <th>2</th>\n",
       "      <td>{\"BUSINESS_ADDRESS\":\"350 Gold Ranch Rd\",\"BUSIN...</td>\n",
       "      <td>[-2.280976250767708e-02,3.102680109441280e-02,...</td>\n",
       "    </tr>\n",
       "    <tr>\n",
       "      <th>3</th>\n",
       "      <td>{\"BUSINESS_ADDRESS\":\"724 Iberville St\",\"BUSINE...</td>\n",
       "      <td>[-1.970066502690315e-02,1.447780802845955e-02,...</td>\n",
       "    </tr>\n",
       "    <tr>\n",
       "      <th>4</th>\n",
       "      <td>{\"BUSINESS_ADDRESS\":\"2230 N Country Club Rd\",\"...</td>\n",
       "      <td>[-5.138897523283958e-02,-2.573888981714845e-03...</td>\n",
       "    </tr>\n",
       "  </tbody>\n",
       "</table>\n",
       "</div>"
      ],
      "text/plain": [
       "                                              _COL_0  \\\n",
       "0  {\"BUSINESS_ADDRESS\":\"5 W Canon Perdido\",\"BUSIN...   \n",
       "1  {\"BUSINESS_ADDRESS\":\"739 Conti St\",\"BUSINESS_C...   \n",
       "2  {\"BUSINESS_ADDRESS\":\"350 Gold Ranch Rd\",\"BUSIN...   \n",
       "3  {\"BUSINESS_ADDRESS\":\"724 Iberville St\",\"BUSINE...   \n",
       "4  {\"BUSINESS_ADDRESS\":\"2230 N Country Club Rd\",\"...   \n",
       "\n",
       "                                              _COL_1  \n",
       "0  [-7.027868926525116e-02,4.038435593247414e-02,...  \n",
       "1  [-4.048965126276016e-02,2.500831335783005e-02,...  \n",
       "2  [-2.280976250767708e-02,3.102680109441280e-02,...  \n",
       "3  [-1.970066502690315e-02,1.447780802845955e-02,...  \n",
       "4  [-5.138897523283958e-02,-2.573888981714845e-03...  "
      ]
     },
     "execution_count": 20,
     "metadata": {},
     "output_type": "execute_result"
    }
   ],
   "source": [
    "pdf.head()"
   ]
  },
  {
   "cell_type": "markdown",
   "id": "06bdd44d-4578-44dc-8f32-905ec4ab7f0d",
   "metadata": {},
   "source": [
    "### Get vector length"
   ]
  },
  {
   "cell_type": "code",
   "execution_count": 21,
   "id": "94ae374d-c6dc-4d00-8936-f1883a4e368a",
   "metadata": {},
   "outputs": [],
   "source": [
    "vector_len = len(snowdf.select(\"EMBEDDINGS\").limit(1).collect()[0]['EMBEDDINGS'])"
   ]
  },
  {
   "cell_type": "code",
   "execution_count": 22,
   "id": "cc7bc8f5-a4ed-4914-b734-89043c05bf25",
   "metadata": {},
   "outputs": [
    {
     "data": {
      "text/plain": [
       "768"
      ]
     },
     "execution_count": 22,
     "metadata": {},
     "output_type": "execute_result"
    }
   ],
   "source": [
    "vector_len"
   ]
  },
  {
   "cell_type": "markdown",
   "id": "12aa3286-ef61-496f-93d1-def587f2b91c",
   "metadata": {},
   "source": [
    "### Create Qdrant collection"
   ]
  },
  {
   "cell_type": "code",
   "execution_count": 26,
   "id": "76cee379-b62f-4453-976d-7dc8ec6a3a30",
   "metadata": {},
   "outputs": [
    {
     "name": "stderr",
     "output_type": "stream",
     "text": [
      "/tmp/ipykernel_482/1371438373.py:1: DeprecationWarning: `recreate_collection` method is deprecated and will be removed in the future. Use `collection_exists` to check collection existence and `create_collection` instead.\n",
      "  client.recreate_collection(\n"
     ]
    },
    {
     "data": {
      "text/plain": [
       "True"
      ]
     },
     "execution_count": 26,
     "metadata": {},
     "output_type": "execute_result"
    }
   ],
   "source": [
    "client.recreate_collection(\n",
    "    collection_name=collection_name,\n",
    "    vectors_config=models.VectorParams(size=vector_len, distance=models.Distance.COSINE),\n",
    "    optimizers_config=models.OptimizersConfigDiff(\n",
    "        indexing_threshold=0,\n",
    "    ),\n",
    "    on_disk_payload=\"true\",\n",
    "    quantization_config=models.ScalarQuantization(\n",
    "            scalar=models.ScalarQuantizationConfig(\n",
    "                type=models.ScalarType.INT8,\n",
    "                quantile=0.99,\n",
    "                always_ram=True\n",
    "            )\n",
    "        )\n",
    ")"
   ]
  },
  {
   "cell_type": "markdown",
   "id": "97f78f5c-5ca1-4d6c-bf2c-a5f6f65b32aa",
   "metadata": {},
   "source": [
    "### Insert batches from snowflake into Qdrant"
   ]
  },
  {
   "cell_type": "code",
   "execution_count": 27,
   "id": "3c7253b1-c5c5-4ef2-b58a-b85ec48c9630",
   "metadata": {},
   "outputs": [],
   "source": [
    "filepaths = list(glob.iglob('/artifacts/data/*.parquet'))"
   ]
  },
  {
   "cell_type": "code",
   "execution_count": 28,
   "id": "26d96f65-9133-4263-84d8-69fe0741028e",
   "metadata": {},
   "outputs": [
    {
     "data": {
      "text/plain": [
       "305"
      ]
     },
     "execution_count": 28,
     "metadata": {},
     "output_type": "execute_result"
    }
   ],
   "source": [
    "len(filepaths)"
   ]
  },
  {
   "cell_type": "code",
   "execution_count": 29,
   "id": "85ab5635-d5c6-4bc3-b273-fb96a33c2ed0",
   "metadata": {},
   "outputs": [
    {
     "data": {
      "text/plain": [
       "'/artifacts/data/data_0_0_0.snappy.parquet'"
      ]
     },
     "execution_count": 29,
     "metadata": {},
     "output_type": "execute_result"
    }
   ],
   "source": [
    "filepaths[0]"
   ]
  },
  {
   "cell_type": "markdown",
   "id": "97435206-80e2-4814-b460-fee8c423ea81",
   "metadata": {},
   "source": [
    "### Use ray single node multiprocessing to insert into Qdrant"
   ]
  },
  {
   "cell_type": "code",
   "execution_count": 30,
   "id": "841d6e04-4735-4bb1-bbb5-4f186fdd6202",
   "metadata": {},
   "outputs": [
    {
     "name": "stderr",
     "output_type": "stream",
     "text": [
      "2024-07-31 03:14:51,345\tINFO worker.py:1772 -- Started a local Ray instance. View the dashboard at \u001b[1m\u001b[32m127.0.0.1:8265 \u001b[39m\u001b[22m\n"
     ]
    }
   ],
   "source": [
    "try:\n",
    "    cli = ray.init()\n",
    "except:\n",
    "    cli.disconnect()\n",
    "    ray.shutdown()\n",
    "    cli = ray.init()"
   ]
  },
  {
   "cell_type": "code",
   "execution_count": 31,
   "id": "880b13fa-8744-4307-98f7-4f6c593c5903",
   "metadata": {},
   "outputs": [
    {
     "name": "stdout",
     "output_type": "stream",
     "text": [
      "{'node:172.16.0.2': 1.0, 'memory': 110314532659.0, 'node:__internal_head__': 1.0, 'CPU': 32.0, 'object_store_memory': 11220602060.0}\n"
     ]
    }
   ],
   "source": [
    "print(ray.cluster_resources()) "
   ]
  },
  {
   "cell_type": "code",
   "execution_count": 32,
   "id": "42a5ad2c-5433-4b58-9c79-eccaf86c8fa5",
   "metadata": {},
   "outputs": [],
   "source": [
    "pool = Pool(ray_address=\"auto\", ray_remote_args={\"num_cpus\": 1})"
   ]
  },
  {
   "cell_type": "code",
   "execution_count": 33,
   "id": "f9374931-e24f-484a-ba39-f0a7101b07fb",
   "metadata": {},
   "outputs": [],
   "source": [
    "def points_iterator(pdf:pd.DataFrame) -> Iterable[models.PointStruct]:\n",
    "    for index, row in pdf.iterrows():\n",
    "        idx = uuid.uuid4().hex\n",
    "        payload = row['PAYLOAD']\n",
    "        point_vector: Dict[str, models.Vector] = row['EMBEDDING']\n",
    "        yield models.PointStruct(id=idx, payload=payload, vector=point_vector)"
   ]
  },
  {
   "cell_type": "code",
   "execution_count": 34,
   "id": "1f00146b-b80a-48a6-8fb1-d694b9a255bb",
   "metadata": {},
   "outputs": [],
   "source": [
    "def read_parquet_and_put_into_qdrant(input_file_path: str):\n",
    "    from qdrant_client import QdrantClient\n",
    "    client = QdrantClient(\"http://instances.qdrantprimaryservice.qdrant-app-core-schema:6333\")\n",
    "    embeddings_pdf = pd.read_parquet(input_file_path)\n",
    "    embeddings_pdf.columns = ['PAYLOAD', 'EMBEDDING']\n",
    "    embeddings_pdf[\"PAYLOAD\"] = embeddings_pdf[\"PAYLOAD\"].map(json.loads)\n",
    "    embeddings_pdf[\"EMBEDDING\"] = embeddings_pdf[\"EMBEDDING\"].map(literal_eval)\n",
    "    points = points_iterator(embeddings_pdf)\n",
    "    client.upload_points(\n",
    "        collection_name=collection_name,\n",
    "        points=points,\n",
    "        wait=True,\n",
    "        parallel=1\n",
    "    )\n",
    "    return \"SUCCESS\""
   ]
  },
  {
   "cell_type": "code",
   "execution_count": 35,
   "id": "42d96942-1165-4b20-aa9c-ac97f3793f07",
   "metadata": {},
   "outputs": [],
   "source": [
    "iterator = pool.imap_unordered(read_parquet_and_put_into_qdrant, filepaths)"
   ]
  },
  {
   "cell_type": "code",
   "execution_count": 36,
   "id": "fac9dd4f-4b3c-4247-bfcf-b89ed7a0284a",
   "metadata": {},
   "outputs": [
    {
     "name": "stderr",
     "output_type": "stream",
     "text": [
      "100%|██████████| 305/305 [20:23<00:00,  4.01s/it]  "
     ]
    },
    {
     "name": "stdout",
     "output_type": "stream",
     "text": [
      "CPU times: user 4.57 s, sys: 1.41 s, total: 5.98 s\n",
      "Wall time: 20min 23s\n"
     ]
    },
    {
     "name": "stderr",
     "output_type": "stream",
     "text": [
      "\n"
     ]
    }
   ],
   "source": [
    "%%time\n",
    "extraction_results = list(tqdm.tqdm(iterator, total=len(filepaths)))"
   ]
  },
  {
   "cell_type": "markdown",
   "id": "113547b9-747c-47ac-9e3e-8a54648e8382",
   "metadata": {},
   "source": [
    "### Start indexing"
   ]
  },
  {
   "cell_type": "code",
   "execution_count": 37,
   "id": "2926b223-8036-4085-93f7-9499f59e5676",
   "metadata": {},
   "outputs": [
    {
     "name": "stdout",
     "output_type": "stream",
     "text": [
      "CPU times: user 5.08 ms, sys: 0 ns, total: 5.08 ms\n",
      "Wall time: 123 ms\n"
     ]
    },
    {
     "data": {
      "text/plain": [
       "True"
      ]
     },
     "execution_count": 37,
     "metadata": {},
     "output_type": "execute_result"
    }
   ],
   "source": [
    "%%time\n",
    "client.update_collection(\n",
    "    collection_name=collection_name,\n",
    "    optimizer_config=models.OptimizersConfigDiff(indexing_threshold=20000),\n",
    ")"
   ]
  },
  {
   "cell_type": "code",
   "execution_count": 38,
   "id": "0ff634a0-c560-486f-98f1-5fcac6e92cd3",
   "metadata": {},
   "outputs": [
    {
     "data": {
      "text/plain": [
       "UpdateResult(operation_id=90501, status=<UpdateStatus.COMPLETED: 'completed'>)"
      ]
     },
     "execution_count": 38,
     "metadata": {},
     "output_type": "execute_result"
    }
   ],
   "source": [
    "client.create_payload_index(\n",
    "    collection_name=collection_name,\n",
    "    field_name=\"BUSINESS_CITY\",\n",
    "    field_schema=\"keyword\",\n",
    ")"
   ]
  },
  {
   "cell_type": "code",
   "execution_count": 39,
   "id": "0e3ab348-a59a-420a-bdce-387540456b1b",
   "metadata": {},
   "outputs": [
    {
     "data": {
      "text/plain": [
       "UpdateResult(operation_id=90503, status=<UpdateStatus.COMPLETED: 'completed'>)"
      ]
     },
     "execution_count": 39,
     "metadata": {},
     "output_type": "execute_result"
    }
   ],
   "source": [
    "client.create_payload_index(\n",
    "    collection_name=collection_name,\n",
    "    field_name=\"LOCATION\",\n",
    "    field_schema=\"geo\",\n",
    ")"
   ]
  },
  {
   "cell_type": "markdown",
   "id": "6759f78b-d294-42aa-99da-951c5797b8f2",
   "metadata": {},
   "source": [
    "### Geo Search with exact city name"
   ]
  },
  {
   "cell_type": "code",
   "execution_count": 50,
   "id": "c1d9b16f-3149-4399-bdf9-522c9d5c2ef3",
   "metadata": {},
   "outputs": [],
   "source": [
    "class YelpSemanticSearcherWithExactCityName:\n",
    "    def __init__(self, collection_name):\n",
    "        self.collection_name = collection_name\n",
    "        # Initialize encoder model\n",
    "        self.model = SentenceTransformer(\"Snowflake/snowflake-arctic-embed-m\", device=\"cpu\")\n",
    "        # initialize Qdrant client\n",
    "        self.qdrant_client = QdrantClient(\"http://instances.qdrantprimaryservice.qdrant-app-core-schema:6333\")\n",
    "        #self.session = session\n",
    "        \n",
    "    def search(self, text: str, city_name: str, limit:int):\n",
    "        # Convert text query into vector\n",
    "        vector = self.model.encode(text).tolist()\n",
    "        #vector = self.session.sql(f\"select snowflake.cortex.embed_text_768('snowflake-arctic-embed-m', '{text}') as result\").collect()[0]['RESULT']\n",
    "        city_filter = Filter(**{\n",
    "        \"must\": [{\n",
    "                \"key\": \"BUSINESS_CITY\", # Store city information in a field of the same name \n",
    "                \"match\": { # This condition checks if payload field has the requested value\n",
    "                    \"value\": city_name\n",
    "                }\n",
    "            }]\n",
    "        })\n",
    "    \n",
    "        # Use `vector` for search for closest vectors in the collection\n",
    "        search_result = self.qdrant_client.search(\n",
    "            collection_name=self.collection_name,\n",
    "            query_vector=vector,\n",
    "            query_filter=city_filter,\n",
    "            limit=limit,  # 5 the most closest results is enough\n",
    "        )\n",
    "        # `search_result` contains found vector ids with similarity scores along with the stored payload\n",
    "        # In this function you are interested in payload only\n",
    "        payloads = [(hit.score, hit.payload) for hit in search_result]\n",
    "        return payloads"
   ]
  },
  {
   "cell_type": "code",
   "execution_count": 51,
   "id": "6af725a2-6455-49f5-9aff-7a846a45a5df",
   "metadata": {},
   "outputs": [],
   "source": [
    "searcher = YelpSemanticSearcherWithExactCityName(collection_name)"
   ]
  },
  {
   "cell_type": "code",
   "execution_count": 52,
   "id": "ac679a31-c039-4603-93f9-0fe4573e14ef",
   "metadata": {},
   "outputs": [
    {
     "name": "stdout",
     "output_type": "stream",
     "text": [
      "CPU times: user 265 ms, sys: 0 ns, total: 265 ms\n",
      "Wall time: 62.1 ms\n"
     ]
    },
    {
     "data": {
      "text/plain": [
       "[(0.9399147,\n",
       "  {'BUSINESS_ADDRESS': '1709 Drew St',\n",
       "   'BUSINESS_CATEGORIES': 'Restaurants, Mexican',\n",
       "   'BUSINESS_CITY': 'Clearwater',\n",
       "   'BUSINESS_ID': '0yELPu1_7T-V3InzfEPS7g',\n",
       "   'BUSINESS_NAME': 'La Cabaña Del Tio',\n",
       "   'BUSINESS_POSTAL_CODE': '33755',\n",
       "   'DATE': '2011-11-08 19:15:47.000',\n",
       "   'LOCATION': {'lat': 27.9677135, 'lon': -82.7665303},\n",
       "   'REVIEW_ID': '3cM7j8uHQaBzNvSEi26gVw',\n",
       "   'REVIEW_TEXT': 'The best Tacos in town... super yum.',\n",
       "   'STARS': 5}),\n",
       " (0.8758049,\n",
       "  {'BUSINESS_ADDRESS': '2169 N Hercules Ave',\n",
       "   'BUSINESS_CATEGORIES': 'Pizza, Restaurants, Italian',\n",
       "   'BUSINESS_CITY': 'Clearwater',\n",
       "   'BUSINESS_ID': 'FZSrUCl8DqHquHjV2qPuQg',\n",
       "   'BUSINESS_NAME': \"Vinny's Pizza & Restaurant\",\n",
       "   'BUSINESS_POSTAL_CODE': '33763',\n",
       "   'DATE': '2016-11-04 14:52:40.000',\n",
       "   'LOCATION': {'lat': 28.0005853516, 'lon': -82.7548317611},\n",
       "   'REVIEW_ID': 'OBya3AhVlzsf19fJeLuPXw',\n",
       "   'REVIEW_TEXT': 'YUM!  This is my new favorite pizza spot.',\n",
       "   'STARS': 5}),\n",
       " (0.85915184,\n",
       "  {'BUSINESS_ADDRESS': '21565 US Hwy 19 N',\n",
       "   'BUSINESS_CATEGORIES': 'Restaurants, Food, Grocery, Mexican',\n",
       "   'BUSINESS_CITY': 'Clearwater',\n",
       "   'BUSINESS_ID': 'W3gP7qMcwHUpz_hz69L5vQ',\n",
       "   'BUSINESS_NAME': 'Don Pancho Villa',\n",
       "   'BUSINESS_POSTAL_CODE': '33765',\n",
       "   'DATE': '2021-03-11 02:36:41.000',\n",
       "   'LOCATION': {'lat': 27.9684435675, 'lon': -82.7292048136},\n",
       "   'REVIEW_ID': 'CQWU6eg5Kq3jDIl1ihfyKQ',\n",
       "   'REVIEW_TEXT': \"Best tacos they have a full menu but the tacos are so good I haven't tried nothing else\",\n",
       "   'STARS': 5})]"
      ]
     },
     "execution_count": 52,
     "metadata": {},
     "output_type": "execute_result"
    }
   ],
   "source": [
    "%%time\n",
    "searcher.search(\"yum yum tacos\",  \"Clearwater\", 3)"
   ]
  },
  {
   "cell_type": "markdown",
   "id": "04b88d72-101f-422a-8a88-0b594e1bbb60",
   "metadata": {},
   "source": [
    "### Geo Search in a 100_000 meter (60 miles) radius from city"
   ]
  },
  {
   "cell_type": "code",
   "execution_count": 43,
   "id": "002e4008-2d86-4188-9f96-24ea14a60b96",
   "metadata": {},
   "outputs": [],
   "source": [
    "class YelpSemanticSearcherWithinNDistanceFromCity:\n",
    "    def __init__(self, collection_name):\n",
    "        self.collection_name = collection_name\n",
    "        # Initialize encoder model\n",
    "        self.model = SentenceTransformer(\"Snowflake/snowflake-arctic-embed-m\", device=\"cpu\")\n",
    "        # initialize Qdrant client\n",
    "        self.qdrant_client = QdrantClient(\"http://instances.qdrantprimaryservice.qdrant-app-core-schema:6333\")\n",
    "        #self.session = session\n",
    "        self.geolocator = Nominatim(user_agent=\"qdrant_on_spcs_native_app\")\n",
    "        \n",
    "    def search(self, text: str, city_name:str, distance_in_meters:int, limit:int):\n",
    "        # Convert text query into vector\n",
    "        vector = self.model.encode(text).tolist()\n",
    "        #vector = self.session.sql(f\"select snowflake.cortex.embed_text_768('snowflake-arctic-embed-m', '{text}') as result\").collect()[0]['RESULT']\n",
    "        location = self.geolocator.geocode(city_name)\n",
    "        latitude = location.latitude\n",
    "        longitude = location.longitude\n",
    "        query_filter=Filter(\n",
    "            must=[\n",
    "                FieldCondition(\n",
    "                    key=\"LOCATION\",\n",
    "                    geo_radius=GeoRadius(\n",
    "                        center=GeoPoint(\n",
    "                            lat=latitude,\n",
    "                            lon=longitude,\n",
    "                        ),\n",
    "                        radius=distance_in_meters,\n",
    "                    ),\n",
    "                )\n",
    "            ]\n",
    "        )\n",
    "        search_result = self.qdrant_client.search(\n",
    "            collection_name=self.collection_name,\n",
    "            query_vector=vector,\n",
    "            query_filter=query_filter,\n",
    "            limit=limit,  # 5 the most closest results is enough\n",
    "        )\n",
    "        # `search_result` contains found vector ids with similarity scores along with the stored payload\n",
    "        # In this function you are interested in payload only\n",
    "        payloads = [(hit.score, hit.payload) for hit in search_result]\n",
    "        return payloads"
   ]
  },
  {
   "cell_type": "code",
   "execution_count": 44,
   "id": "994c7508-e559-40af-a6f7-d39364a6149a",
   "metadata": {},
   "outputs": [],
   "source": [
    "searcher = YelpSemanticSearcherWithinNDistanceFromCity(collection_name)"
   ]
  },
  {
   "cell_type": "code",
   "execution_count": 47,
   "id": "b3c03f34-7fb4-4bfb-8e05-231c8f8109a8",
   "metadata": {},
   "outputs": [
    {
     "name": "stdout",
     "output_type": "stream",
     "text": [
      "CPU times: user 272 ms, sys: 0 ns, total: 272 ms\n",
      "Wall time: 246 ms\n"
     ]
    },
    {
     "data": {
      "text/plain": [
       "[(0.9399147,\n",
       "  {'BUSINESS_ADDRESS': '1709 Drew St',\n",
       "   'BUSINESS_CATEGORIES': 'Restaurants, Mexican',\n",
       "   'BUSINESS_CITY': 'Clearwater',\n",
       "   'BUSINESS_ID': '0yELPu1_7T-V3InzfEPS7g',\n",
       "   'BUSINESS_NAME': 'La Cabaña Del Tio',\n",
       "   'BUSINESS_POSTAL_CODE': '33755',\n",
       "   'DATE': '2011-11-08 19:15:47.000',\n",
       "   'LOCATION': {'lat': 27.9677135, 'lon': -82.7665303},\n",
       "   'REVIEW_ID': '3cM7j8uHQaBzNvSEi26gVw',\n",
       "   'REVIEW_TEXT': 'The best Tacos in town... super yum.',\n",
       "   'STARS': 5}),\n",
       " (0.93536377,\n",
       "  {'BUSINESS_ADDRESS': '913 E Hillsborough Ave',\n",
       "   'BUSINESS_CATEGORIES': 'Mexican, Restaurants, Ethnic Food, Food, Vegetarian, Food Trucks, Street Vendors, Specialty Food',\n",
       "   'BUSINESS_CITY': 'Tampa',\n",
       "   'BUSINESS_ID': 'yb2vAoH3E-R11yWmnT570w',\n",
       "   'BUSINESS_NAME': 'Taco Bus',\n",
       "   'BUSINESS_POSTAL_CODE': '33604',\n",
       "   'DATE': '2012-10-26 06:36:58.000',\n",
       "   'LOCATION': {'lat': 27.995955, 'lon': -82.450292},\n",
       "   'REVIEW_ID': 'ewQevLM9-YAMySCaE4GFBQ',\n",
       "   'REVIEW_TEXT': 'Very good tacos',\n",
       "   'STARS': 5}),\n",
       " (0.87981415,\n",
       "  {'BUSINESS_ADDRESS': '2701 4th St',\n",
       "   'BUSINESS_CATEGORIES': 'Mexican, Restaurants',\n",
       "   'BUSINESS_CITY': 'Saint Petersburg',\n",
       "   'BUSINESS_ID': 'uKEabBQrn0gLzvTppOrKIA',\n",
       "   'BUSINESS_NAME': 'Casita Taqueria',\n",
       "   'BUSINESS_POSTAL_CODE': '33704',\n",
       "   'DATE': '2015-08-30 04:35:55.000',\n",
       "   'LOCATION': {'lat': 27.7969762597, 'lon': -82.6381678127},\n",
       "   'REVIEW_ID': '2IHNmjYb_KEwBtV2-_3QQw',\n",
       "   'REVIEW_TEXT': 'Fantastic tacos.  The staff was excellent.  Try the barbacoa.',\n",
       "   'STARS': 5})]"
      ]
     },
     "execution_count": 47,
     "metadata": {},
     "output_type": "execute_result"
    }
   ],
   "source": [
    "%%time\n",
    "searcher.search(text=\"yum yum tacos\",  city_name=\"Clearwater\", distance_in_meters=100_000, limit=3) #100_000 metres = 60 miles"
   ]
  },
  {
   "cell_type": "markdown",
   "id": "6574ba93-1762-4bce-ba4c-11d9e426a26a",
   "metadata": {},
   "source": [
    "### Clean up"
   ]
  },
  {
   "cell_type": "code",
   "execution_count": 55,
   "id": "1e23c554-c49d-45bb-a248-c7be2870893c",
   "metadata": {},
   "outputs": [],
   "source": [
    "_ = session.sql(\"remove @DISTRIBUTED_QDRANT_ON_SPCS.qdrant_app_public_schema.artifacts/data/\").collect()"
   ]
  },
  {
   "cell_type": "code",
   "execution_count": null,
   "id": "354ed249-b078-42b5-83e2-b3bc99956f45",
   "metadata": {},
   "outputs": [],
   "source": [
    "cli.disconnect()"
   ]
  },
  {
   "cell_type": "code",
   "execution_count": null,
   "id": "d3278de3-e132-4fd7-8ec1-84fe4d9b2425",
   "metadata": {},
   "outputs": [],
   "source": []
  }
 ],
 "metadata": {
  "kernelspec": {
   "display_name": "Python 3 (ipykernel)",
   "language": "python",
   "name": "python3"
  },
  "language_info": {
   "codemirror_mode": {
    "name": "ipython",
    "version": 3
   },
   "file_extension": ".py",
   "mimetype": "text/x-python",
   "name": "python",
   "nbconvert_exporter": "python",
   "pygments_lexer": "ipython3",
   "version": "3.10.12"
  }
 },
 "nbformat": 4,
 "nbformat_minor": 5
}
